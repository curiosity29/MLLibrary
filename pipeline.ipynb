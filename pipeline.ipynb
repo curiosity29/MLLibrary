{
 "cells": [
  {
   "cell_type": "code",
   "execution_count": null,
   "metadata": {},
   "outputs": [],
   "source": [
    "from Dependency.CD_Sen2.manager import Manager\n",
    "import warnings\n",
    "import matplotlib.pyplot as plt\n",
    "import glob, os\n",
    "import numpy as np\n",
    "import rasterio as rs\n",
    "import geopandas as gd\n",
    "\n",
    "import torch.optim as optim\n",
    "import torch\n",
    "from Dependency.CD_Sen2.data import prepare_data\n",
    "from Dependency.Utility.Preprocess.Normalize import preprocess_info\n",
    "from Dependency.Utility.Dataset.DataMonitor import RawDataMonitor\n",
    "\n",
    "warnings.filterwarnings(\"ignore\") "
   ]
  },
  {
   "cell_type": "code",
   "execution_count": null,
   "metadata": {},
   "outputs": [],
   "source": [
    "#\n",
    "# restart brake\n",
    "#\n",
    "\n",
    "manager = Manager(\n",
    "    configs_file = \"./Configs/configs2.json\", \n",
    "    restart_raw_data = True,\n",
    "    restart_train_data = True,\n",
    "    restart_eval_data = True,\n",
    "    restart_checkpoint = True,\n",
    "    restart_runner = True,\n",
    "    backup = False,\n",
    "    model = None,\n",
    " )\n",
    "\n",
    "manager.raw_dataset.execute(mode = \"extract\")"
   ]
  },
  {
   "cell_type": "code",
   "execution_count": null,
   "metadata": {},
   "outputs": [],
   "source": [
    "\n",
    "while True:\n",
    "    manager.execute()\n",
    "    \n",
    "    manager.process.execute()\n",
    "\n",
    "    # raw_dataset.mode = \"extract\"\n",
    "    manager.raw_dataset.execute()\n",
    "\n",
    "    manager.train_dataset.load()\n",
    "    manager.trainer.execute()\n",
    "    \n",
    "    manager.eval_dataset.load()\n",
    "    manager.evaluater.execute()\n",
    "\n"
   ]
  }
 ],
 "metadata": {
  "language_info": {
   "name": "python"
  }
 },
 "nbformat": 4,
 "nbformat_minor": 2
}
