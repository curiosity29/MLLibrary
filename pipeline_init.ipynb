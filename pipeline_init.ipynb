{
 "cells": [
  {
   "cell_type": "code",
   "execution_count": null,
   "metadata": {},
   "outputs": [],
   "source": [
    "!pip install git+https://github.com/strath-ai/SatelliteCloudGenerator\n",
    "!pip install -q tensorboard\n",
    "!pip install -q torchsummary\n",
    "!pip install -q monai\n",
    "!pip install -q torcheval"
   ]
  },
  {
   "cell_type": "code",
   "execution_count": null,
   "metadata": {},
   "outputs": [],
   "source": [
    "# import sys\n",
    "# sys.path.append()\n",
    "\n",
    "from Dependency.CD_Sen2.manager import Manager\n",
    "import warnings\n",
    "import matplotlib.pyplot as plt\n",
    "import glob, os\n",
    "import numpy as np\n",
    "import rasterio as rs\n",
    "import geopandas as gd\n",
    "\n",
    "import torch.optim as optim\n",
    "import torch\n",
    "from Dependency.CD_Sen2.data import prepare_data\n",
    "from Dependency.Utility.Preprocess.Normalize import preprocess_info\n",
    "from Dependency.Utility.Dataset.DataMonitor import RawDataMonitor\n",
    "\n",
    "warnings.filterwarnings(\"ignore\") "
   ]
  },
  {
   "cell_type": "code",
   "execution_count": null,
   "metadata": {},
   "outputs": [],
   "source": [
    "# labeled_folders = glob.glob(\"./Data/Labeled_images/*\")\n",
    "raw_image_folder = \"./Data/Raw_images\"\n",
    "raw_label_folder = \"./Data/Raw_labels\"\n",
    "\n",
    "monitor = RawDataMonitor(\n",
    "    monitor_file = \"./Status/raw_data_monitor.csv\", \n",
    "    meta_file = \"./Data/Meta/meta.json\", \n",
    "    input_image_folder = \"./Data/Raw_images\", \n",
    "    input_label_folder = \"./Data/Raw_labels\"\n",
    ")\n",
    "reset = True\n",
    "# if reset:\n",
    "monitor.execute(mode = \"reset\")    \n",
    "# else:\n",
    "#     monitor.execute(mode = \"update\")"
   ]
  },
  {
   "cell_type": "code",
   "execution_count": null,
   "metadata": {},
   "outputs": [],
   "source": [
    "#\n",
    "# restart brake\n",
    "#\n",
    "manager = Manager(\n",
    "    configs_file = \"./Configs/configs2.json\", \n",
    "    restart_raw_data = True,\n",
    "    restart_train_data = True,\n",
    "    restart_eval_data = True,\n",
    "    restart_checkpoint = True,\n",
    "    restart_runner = True,\n",
    "    backup = False,\n",
    "    model = None,\n",
    " )\n",
    "\n",
    "manager.raw_dataset.execute(mode = \"extract\")"
   ]
  }
 ],
 "metadata": {
  "language_info": {
   "name": "python"
  }
 },
 "nbformat": 4,
 "nbformat_minor": 2
}
